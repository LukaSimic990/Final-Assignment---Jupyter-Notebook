{
 "cells": [
  {
   "cell_type": "markdown",
   "id": "436989e2-3ce9-4fe9-80c1-f251c9c7582a",
   "metadata": {},
   "source": [
    "# Data Science Tools and Ecosystems"
   ]
  },
  {
   "cell_type": "markdown",
   "id": "b9782fbc-e550-4c35-a4c0-1e9dda684a57",
   "metadata": {},
   "source": [
    "### In this notebook, Data Science Tools and Ecosystem are **summarized**."
   ]
  },
  {
   "cell_type": "markdown",
   "id": "b47b5737-2426-435d-8174-6fe5d073d499",
   "metadata": {},
   "source": [
    "### **Objectives:**\n",
    "- List popular Data Science Languages\n",
    "- List some of the Data Science Libraries\n",
    "- Name some of the Open-Source Data Science Development Environments\n",
    "- Give examples of arithmetic evaluations   "
   ]
  },
  {
   "cell_type": "markdown",
   "id": "d93591d4-afa7-49f1-93fb-6aa2a67fac79",
   "metadata": {},
   "source": [
    "### Some of the popular languages that Data Scientists use are:"
   ]
  },
  {
   "cell_type": "markdown",
   "id": "976364d9-6b4b-4ce3-884d-55c576c07ad3",
   "metadata": {},
   "source": [
    "#### 1. Python\n",
    "#### 2. R\n",
    "#### 3. SQL\n",
    "#### 4. Java\n",
    "#### 5. Julia"
   ]
  },
  {
   "cell_type": "markdown",
   "id": "1c3ad71d-89fa-4403-b800-fafde6665fbf",
   "metadata": {},
   "source": [
    "### Some of the commonly used libraries used by Data Scientists include:"
   ]
  },
  {
   "cell_type": "markdown",
   "id": "8a178889-a9af-403c-b0eb-6172148aa440",
   "metadata": {},
   "source": [
    "### **- Scientific computing libraries in Python:**"
   ]
  },
  {
   "cell_type": "markdown",
   "id": "c69a1325-9400-4d09-9c6f-ce7945c74160",
   "metadata": {},
   "source": [
    "#### 1. Pandas\n",
    "#### 2. NumPy"
   ]
  },
  {
   "cell_type": "markdown",
   "id": "885bd2a6-df91-4658-88fc-ee6ddf40b205",
   "metadata": {},
   "source": [
    "### **- Visualization libraries in Python:**"
   ]
  },
  {
   "cell_type": "markdown",
   "id": "ce822e82-704c-4e44-a4b2-2b5a47025b8a",
   "metadata": {},
   "source": [
    "#### 1. Matplotlib\n",
    "#### 2. Seaborn"
   ]
  },
  {
   "cell_type": "markdown",
   "id": "68936eca-a8d1-4c28-bda7-a28d105dbd9d",
   "metadata": {},
   "source": [
    "### **- High level Machine Learning and Deep Learning libraries:**"
   ]
  },
  {
   "cell_type": "markdown",
   "id": "8d4d7110-80cb-43e9-8c4d-97cf88cdf5d9",
   "metadata": {},
   "source": [
    "#### 1. Scikit-learn\n",
    "#### 2. Keras"
   ]
  },
  {
   "cell_type": "markdown",
   "id": "f3919000-6de1-482d-bb37-a799b3806914",
   "metadata": {},
   "source": [
    "### **- Deep Learning Libraries in Python:**"
   ]
  },
  {
   "cell_type": "markdown",
   "id": "6cd2f8a9-e0e6-4521-8bc2-e72c2e0f4d30",
   "metadata": {},
   "source": [
    "#### 1. TensorFlow\n",
    "#### 2. PyTorch"
   ]
  },
  {
   "cell_type": "markdown",
   "id": "aa2f9073-cf35-4be8-9944-4aecda976d26",
   "metadata": {},
   "source": [
    "|Data Science Tools|\n",
    "|------------------|\n",
    "|   Jupyter  |\n",
    "|   RStudio   |\n",
    "|   Spyder   |\n"
   ]
  },
  {
   "cell_type": "markdown",
   "id": "5bb9d4ce-8222-4428-8a41-119924171d4d",
   "metadata": {},
   "source": [
    "### Below are a few examples of evaluating arithmetic expressions in Python.\n",
    "\n"
   ]
  },
  {
   "cell_type": "code",
   "execution_count": 32,
   "id": "e493ec98-0c92-47ca-82e3-550a2912cc5c",
   "metadata": {},
   "outputs": [
    {
     "data": {
      "text/plain": [
       "17"
      ]
     },
     "execution_count": 32,
     "metadata": {},
     "output_type": "execute_result"
    }
   ],
   "source": [
    "#This a simple arithmetic expression to mutiply then add integers\n",
    "(3*4)+5\n"
   ]
  },
  {
   "cell_type": "code",
   "execution_count": 36,
   "id": "089365e3-4d52-4995-b83b-06fbc1259ca1",
   "metadata": {},
   "outputs": [
    {
     "data": {
      "text/plain": [
       "3.3333333333333335"
      ]
     },
     "execution_count": 36,
     "metadata": {},
     "output_type": "execute_result"
    }
   ],
   "source": [
    "#This will convert 200 minutes to hours by diving by 60\n",
    "200/60"
   ]
  },
  {
   "cell_type": "markdown",
   "id": "caac24b8-a695-47bd-bda9-2f186603ef1f",
   "metadata": {},
   "source": [
    "## Author:\n",
    "Luka Simic"
   ]
  },
  {
   "cell_type": "code",
   "execution_count": null,
   "id": "79497c02-9c22-44b8-a89e-7fc891564cf3",
   "metadata": {},
   "outputs": [],
   "source": []
  }
 ],
 "metadata": {
  "kernelspec": {
   "display_name": "Python [conda env:base] *",
   "language": "python",
   "name": "conda-base-py"
  },
  "language_info": {
   "codemirror_mode": {
    "name": "ipython",
    "version": 3
   },
   "file_extension": ".py",
   "mimetype": "text/x-python",
   "name": "python",
   "nbconvert_exporter": "python",
   "pygments_lexer": "ipython3",
   "version": "3.12.7"
  }
 },
 "nbformat": 4,
 "nbformat_minor": 5
}
